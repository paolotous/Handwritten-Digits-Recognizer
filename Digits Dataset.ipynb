{
 "cells": [
  {
   "cell_type": "code",
   "execution_count": 2,
   "metadata": {},
   "outputs": [
    {
     "name": "stdout",
     "output_type": "stream",
     "text": [
      "Target:  4\n"
     ]
    }
   ],
   "source": [
    "from sklearn.datasets import load_digits\n",
    "from matplotlib import pyplot as plt\n",
    "from sklearn.model_selection import train_test_split\n",
    "from sklearn.neighbors import KNeighborsClassifier\n",
    "\n",
    "dataset = load_digits()\n",
    "data = dataset.data\n",
    "target = dataset.target\n",
    "images = dataset.images\n",
    "\n",
    "plt.imshow(images[100], cmap='gray')\n",
    "print('Target: ', target[100])"
   ]
  },
  {
   "cell_type": "code",
   "execution_count": 7,
   "metadata": {},
   "outputs": [
    {
     "data": {
      "text/plain": [
       "<matplotlib.image.AxesImage at 0xef5cc30f0>"
      ]
     },
     "execution_count": 7,
     "metadata": {},
     "output_type": "execute_result"
    },
    {
     "data": {
      "image/png": "[encoded data removed]",
      "text/plain": [
       "<Figure size 432x288 with 1 Axes>"
      ]
     },
     "metadata": {},
     "output_type": "display_data"
    }
   ],
   "source": [
    "plt.imshow(data[100].reshape(1,64), cmap='gray')"
   ]
  },
  {
   "cell_type": "code",
   "execution_count": 3,
   "metadata": {},
   "outputs": [
    {
     "name": "stdout",
     "output_type": "stream",
     "text": [
      "Wrong Answers:  {9: 1, 3: 7, 8: 3}\n",
      "Accuracy:  0.986111111111\n"
     ]
    }
   ],
   "source": [
    "from sklearn.neighbors import KNeighborsClassifier\n",
    "train_data, test_data, train_target, test_target = train_test_split(data, target, test_size=0.2)\n",
    "\n",
    "#Loading the algorithm into a model\n",
    "model = KNeighborsClassifier()\n",
    "\n",
    "#Training the model\n",
    "model.fit(train_data, train_target)\n",
    "\n",
    "#Now that our model is trained, it's time to test it on our 20% testing data\n",
    "attempted_target = model.predict(test_data)\n",
    "\n",
    "#Let's see how well our model did\n",
    "from sklearn.metrics import accuracy_score\n",
    "accuracy = accuracy_score(test_target, attempted_target)\n",
    "\n",
    "#I made this function to check the wrong answers by comparing attempted results with actual results\n",
    "def checkDiff(attempt, test):\n",
    "    listWrong = {}\n",
    "    for i in range(len(test)):\n",
    "        if attempt[i] != test[i]:\n",
    "            listWrong.update({test[i]: attempt[i]})\n",
    "    return listWrong        \n",
    "\n",
    "resultList = checkDiff(attempted_target, test_target)\n",
    "print(\"Wrong Answers: \", resultList)\n",
    "print(\"Accuracy: \", accuracy)"
   ]
  },
  {
   "cell_type": "code",
   "execution_count": 4,
   "metadata": {},
   "outputs": [
    {
     "data": {
      "text/plain": [
       "['KNN-HandwrittenDigits.sav']"
      ]
     },
     "execution_count": 4,
     "metadata": {},
     "output_type": "execute_result"
    }
   ],
   "source": [
    "import joblib\n",
    "joblib.dump(model, 'KNN-HandwrittenDigits.sav')"
   ]
  },
  {
   "cell_type": "code",
   "execution_count": null,
   "metadata": {},
   "outputs": [],
   "source": []
  }
 ],
 "metadata": {
  "kernelspec": {
   "display_name": "Python 3",
   "language": "python",
   "name": "python3"
  },
  "language_info": {
   "codemirror_mode": {
    "name": "ipython",
    "version": 3
   },
   "file_extension": ".py",
   "mimetype": "text/x-python",
   "name": "python",
   "nbconvert_exporter": "python",
   "pygments_lexer": "ipython3",
   "version": "3.6.5"
  }
 },
 "nbformat": 4,
 "nbformat_minor": 2
}
